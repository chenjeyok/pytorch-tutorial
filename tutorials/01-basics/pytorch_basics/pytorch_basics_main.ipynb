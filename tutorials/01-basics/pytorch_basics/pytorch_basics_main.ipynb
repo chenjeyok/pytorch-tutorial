{
 "cells": [
  {
   "cell_type": "code",
   "execution_count": 1,
   "metadata": {},
   "outputs": [],
   "source": [
    "import torch\n",
    "import torchvision\n",
    "import torch.nn as nn\n",
    "import torchvision.transforms as transforms\n",
    "import numpy as np"
   ]
  },
  {
   "cell_type": "code",
   "execution_count": 2,
   "metadata": {},
   "outputs": [],
   "source": [
    "# dummy inputs\n",
    "x = torch.tensor(1, requires_grad=True)\n",
    "w = torch.tensor(2, requires_grad=True)\n",
    "b = torch.tensor(3, requires_grad=True)"
   ]
  },
  {
   "cell_type": "code",
   "execution_count": 3,
   "metadata": {},
   "outputs": [
    {
     "data": {
      "text/plain": [
       "(tensor(2), tensor(1), tensor(1))"
      ]
     },
     "execution_count": 3,
     "metadata": {},
     "output_type": "execute_result"
    }
   ],
   "source": [
    "# make forward pass & see the grads\n",
    "y = w*x +b\n",
    "y.backward()\n",
    "x.grad, w.grad, b.grad"
   ]
  },
  {
   "cell_type": "code",
   "execution_count": 4,
   "metadata": {},
   "outputs": [],
   "source": [
    "# another dummy inputs\n",
    "x = torch.randn(10,3)\n",
    "y = torch.randn(10,2)"
   ]
  },
  {
   "cell_type": "code",
   "execution_count": 5,
   "metadata": {},
   "outputs": [
    {
     "data": {
      "text/plain": [
       "(Parameter containing:\n",
       " tensor([[-0.0497, -0.3760, -0.3046],\n",
       "         [-0.5077,  0.1172, -0.0910]]), Parameter containing:\n",
       " tensor([-0.1991, -0.3434]), <generator object Module.parameters at 0x10d3162b0>)"
      ]
     },
     "execution_count": 5,
     "metadata": {},
     "output_type": "execute_result"
    }
   ],
   "source": [
    "# model\n",
    "linear = nn.Linear(3,2)\n",
    "linear.weight, linear.bias, linear.parameters()"
   ]
  },
  {
   "cell_type": "code",
   "execution_count": 6,
   "metadata": {},
   "outputs": [],
   "source": [
    "# loss func\n",
    "criterion = nn.MSELoss()"
   ]
  },
  {
   "cell_type": "code",
   "execution_count": 7,
   "metadata": {},
   "outputs": [],
   "source": [
    "# optimizer # you basically send parameters of the model into optimizer and it'll handle them nice\n",
    "optimizer = torch.optim.SGD(linear.parameters(), lr=0.01)"
   ]
  },
  {
   "cell_type": "code",
   "execution_count": 8,
   "metadata": {},
   "outputs": [
    {
     "data": {
      "text/plain": [
       "(tensor([[ 0.0790, -0.0934],\n",
       "         [-0.4460, -0.2057],\n",
       "         [-0.7174,  0.2380],\n",
       "         [-0.4797,  0.3544],\n",
       "         [-0.1732, -0.2266],\n",
       "         [-0.1937, -0.7903],\n",
       "         [-0.2570,  0.4832],\n",
       "         [-0.7350, -0.5442],\n",
       "         [-0.3645, -0.8070],\n",
       "         [-0.8398, -0.5036]]), tensor([[-1.4508, -0.8751],\n",
       "         [-0.1515,  0.8508],\n",
       "         [-0.7762, -1.1925],\n",
       "         [ 0.8390,  0.4313],\n",
       "         [-0.2570, -0.5638],\n",
       "         [-0.2794, -0.8816],\n",
       "         [ 0.3251, -2.1437],\n",
       "         [-1.7458,  0.8672],\n",
       "         [ 1.1277, -0.3533],\n",
       "         [-0.0186,  1.7718]]))"
      ]
     },
     "execution_count": 8,
     "metadata": {},
     "output_type": "execute_result"
    }
   ],
   "source": [
    "# foward pass\n",
    "pred = linear(x)\n",
    "pred, y"
   ]
  },
  {
   "cell_type": "code",
   "execution_count": 9,
   "metadata": {},
   "outputs": [
    {
     "data": {
      "text/plain": [
       "(1.3311126232147217, tensor([[ 0.2061,  0.1099, -0.5320],\n",
       "         [-0.6442,  0.0488, -0.5805]]), tensor([-0.1740, -0.0006]))"
      ]
     },
     "execution_count": 9,
     "metadata": {},
     "output_type": "execute_result"
    }
   ],
   "source": [
    "# training operations: calculating loss\n",
    "loss = criterion(pred, y)\n",
    "loss.backward()\n",
    "loss.item(), linear.weight.grad, linear.bias.grad"
   ]
  },
  {
   "cell_type": "code",
   "execution_count": 10,
   "metadata": {},
   "outputs": [
    {
     "data": {
      "text/plain": [
       "(Parameter containing:\n",
       " tensor([[-0.0517, -0.3771, -0.2993],\n",
       "         [-0.5013,  0.1167, -0.0852]]), Parameter containing:\n",
       " tensor([-0.1973, -0.3434]))"
      ]
     },
     "execution_count": 10,
     "metadata": {},
     "output_type": "execute_result"
    }
   ],
   "source": [
    "# training operations: modify weights&bias according to grads\n",
    "optimizer.step()\n",
    "linear.weight, linear.bias"
   ]
  },
  {
   "cell_type": "code",
   "execution_count": 11,
   "metadata": {},
   "outputs": [],
   "source": [
    "# another training step & clear grad firstly \n",
    "optimizer.zero_grad()\n",
    "pred= linear(x)\n",
    "loss = criterion(pred, y)\n",
    "loss.item()\n",
    "loss.backward()\n",
    "optimizer.step()"
   ]
  },
  {
   "cell_type": "code",
   "execution_count": 12,
   "metadata": {},
   "outputs": [
    {
     "data": {
      "text/plain": [
       "(array([[1, 2],\n",
       "        [3, 4]]), tensor([[ 1,  2],\n",
       "         [ 3,  4]]), array([[1, 2],\n",
       "        [3, 4]]))"
      ]
     },
     "execution_count": 12,
     "metadata": {},
     "output_type": "execute_result"
    }
   ],
   "source": [
    "# interchange between torch tensor and numpy\n",
    "x= np.array([[1,2],[3,4]])\n",
    "y = torch.from_numpy(x)\n",
    "z = y.numpy()\n",
    "x,y,z"
   ]
  },
  {
   "cell_type": "code",
   "execution_count": 13,
   "metadata": {},
   "outputs": [],
   "source": [
    "# this causes downloading if /home/users/you/.torch/models has no corresponding model\n",
    "resnet = torchvision.models.resnet18(pretrained=True) "
   ]
  },
  {
   "cell_type": "code",
   "execution_count": 14,
   "metadata": {},
   "outputs": [
    {
     "data": {
      "text/plain": [
       "torch.Size([1000])"
      ]
     },
     "execution_count": 14,
     "metadata": {},
     "output_type": "execute_result"
    }
   ],
   "source": [
    "# freeze all params and only finetune last layer (fc)\n",
    "for params in resnet.parameters(): \n",
    "    params.requires_grad = False\n",
    "    #print(params.shape)\n",
    "params.shape"
   ]
  },
  {
   "cell_type": "code",
   "execution_count": 15,
   "metadata": {},
   "outputs": [],
   "source": [
    "# simply replace the top layer for finetuning (also changed num_classes to 100)\n",
    "resnet.fc = nn.Linear(resnet.fc.in_features, 100) "
   ]
  },
  {
   "cell_type": "code",
   "execution_count": 16,
   "metadata": {},
   "outputs": [
    {
     "data": {
      "text/plain": [
       "torch.Size([64, 100])"
      ]
     },
     "execution_count": 16,
     "metadata": {},
     "output_type": "execute_result"
    }
   ],
   "source": [
    "# dummpy inputs and forward pass\n",
    "images = torch.randn(64, 3, 224, 224)\n",
    "outputs = resnet(images)\n",
    "outputs.size()"
   ]
  },
  {
   "cell_type": "code",
   "execution_count": 17,
   "metadata": {},
   "outputs": [],
   "source": [
    "torch.save(resnet.state_dict(), 'resnet18_fc_finetune.ckpt')\n",
    "resnet.load_state_dict(torch.load('resnet18_fc_finetune.ckpt'))"
   ]
  },
  {
   "cell_type": "code",
   "execution_count": 18,
   "metadata": {},
   "outputs": [],
   "source": [
    "#!git commit -m \"getting familiar with basics of pytorch; tensor, auto grad, dataSet, dataLoader and save&load state_dict\""
   ]
  },
  {
   "cell_type": "code",
   "execution_count": null,
   "metadata": {},
   "outputs": [],
   "source": []
  }
 ],
 "metadata": {
  "kernelspec": {
   "display_name": "Python 3",
   "language": "python",
   "name": "python3"
  },
  "language_info": {
   "codemirror_mode": {
    "name": "ipython",
    "version": 3
   },
   "file_extension": ".py",
   "mimetype": "text/x-python",
   "name": "python",
   "nbconvert_exporter": "python",
   "pygments_lexer": "ipython3",
   "version": "3.6.5"
  }
 },
 "nbformat": 4,
 "nbformat_minor": 2
}
