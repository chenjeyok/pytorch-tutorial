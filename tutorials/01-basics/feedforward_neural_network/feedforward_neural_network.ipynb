{
 "cells": [
  {
   "cell_type": "code",
   "execution_count": 1,
   "metadata": {},
   "outputs": [],
   "source": [
    "import torch\n",
    "import torch.nn as nn\n",
    "import torchvision\n",
    "import torchvision.transforms as transforms"
   ]
  },
  {
   "cell_type": "code",
   "execution_count": 2,
   "metadata": {},
   "outputs": [],
   "source": [
    "# Device configuration\n",
    "device = torch.device('cuda' if torch.cuda.is_available() else 'cpu')"
   ]
  },
  {
   "cell_type": "code",
   "execution_count": 3,
   "metadata": {},
   "outputs": [],
   "source": [
    "# Hyper-parameter\n",
    "input_size = 784\n",
    "hidden_size = 500\n",
    "num_classes = 10\n",
    "num_epochs =10\n",
    "batch_size=256\n",
    "learning_rate =0.001"
   ]
  },
  {
   "cell_type": "code",
   "execution_count": 13,
   "metadata": {},
   "outputs": [],
   "source": [
    "# MINST dataset\n",
    "train_dataset = torchvision.datasets.MNIST(root='../../data', train=True, transform=transforms.ToTensor(), download=True)\n",
    "test_dataset = torchvision.datasets.MNIST(root='../../data', train=False, transform=transforms.ToTensor(), download=False)\n",
    "train_loader = torch.utils.data.DataLoader(dataset=train_dataset, batch_size=batch_size, shuffle=True)\n",
    "test_loader = torch.utils.data.DataLoader(dataset=test_dataset, batch_size=batch_size, shuffle=False)\n"
   ]
  },
  {
   "cell_type": "code",
   "execution_count": 5,
   "metadata": {},
   "outputs": [],
   "source": [
    "# Fully connected neural network with one hidden layer\n",
    "class NeuralNet(nn.Module):\n",
    "    def __init__(self, input_size, hidden_size, num_classes):\n",
    "        super(NeuralNet, self).__init__()\n",
    "        self.fc1 = nn.Linear(input_size, hidden_size)\n",
    "        self.relu = nn.ReLU()\n",
    "        self.fc2 = nn.Linear(hidden_size, num_classes)\n",
    "    \n",
    "    def forward(self, x):\n",
    "        assert (x.shape[1]==input_size)\n",
    "        out = self.fc1(x)\n",
    "        out = self.relu(out)\n",
    "        out = self.fc2(out)\n",
    "        return out"
   ]
  },
  {
   "cell_type": "code",
   "execution_count": 6,
   "metadata": {},
   "outputs": [],
   "source": [
    "# Model & Loss Func & Optimizer\n",
    "model = NeuralNet(input_size=input_size, hidden_size=hidden_size, num_classes=num_classes)\n",
    "criterion = nn.CrossEntropyLoss()\n",
    "optimizer =torch.optim.Adam(model.parameters(), lr=learning_rate)"
   ]
  },
  {
   "cell_type": "code",
   "execution_count": 7,
   "metadata": {},
   "outputs": [
    {
     "name": "stdout",
     "output_type": "stream",
     "text": [
      "Epoch [0/10], Step[100/235], Loss:0.2451\n",
      "Epoch [0/10], Step[200/235], Loss:0.3065\n",
      "Epoch [1/10], Step[100/235], Loss:0.1103\n",
      "Epoch [1/10], Step[200/235], Loss:0.1594\n",
      "Epoch [2/10], Step[100/235], Loss:0.1583\n",
      "Epoch [2/10], Step[200/235], Loss:0.1112\n",
      "Epoch [3/10], Step[100/235], Loss:0.1131\n",
      "Epoch [3/10], Step[200/235], Loss:0.0639\n",
      "Epoch [4/10], Step[100/235], Loss:0.0593\n",
      "Epoch [4/10], Step[200/235], Loss:0.1033\n",
      "Epoch [5/10], Step[100/235], Loss:0.0797\n",
      "Epoch [5/10], Step[200/235], Loss:0.0655\n",
      "Epoch [6/10], Step[100/235], Loss:0.0611\n",
      "Epoch [6/10], Step[200/235], Loss:0.0325\n",
      "Epoch [7/10], Step[100/235], Loss:0.0201\n",
      "Epoch [7/10], Step[200/235], Loss:0.0417\n",
      "Epoch [8/10], Step[100/235], Loss:0.0348\n",
      "Epoch [8/10], Step[200/235], Loss:0.0324\n",
      "Epoch [9/10], Step[100/235], Loss:0.0222\n",
      "Epoch [9/10], Step[200/235], Loss:0.0214\n"
     ]
    }
   ],
   "source": [
    "# Train the model\n",
    "total_step = len(train_loader)\n",
    "for epoch in range(num_epochs):\n",
    "    for i, (images, labels) in enumerate(train_loader):\n",
    "        # get Input &GT (send to Device)\n",
    "        images = images.reshape(-1, 28*28)\n",
    "        labels = labels.to(device)\n",
    "        \n",
    "        # get OUTPUT  through Net and Loss\n",
    "        output = model(images)\n",
    "        loss = criterion(output, labels)\n",
    "        \n",
    "        # Zero & Backward & Step\n",
    "        optimizer.zero_grad()\n",
    "        loss.backward()\n",
    "        optimizer.step()\n",
    "        \n",
    "        # Logging\n",
    "        if (i+1) % 100 ==0:\n",
    "            print ('Epoch [{}/{}], Step[{}/{}], Loss:{:.4f}'.format(epoch+1, num_epochs, i+1, total_step, loss.item()))"
   ]
  },
  {
   "cell_type": "code",
   "execution_count": 15,
   "metadata": {},
   "outputs": [
    {
     "name": "stdout",
     "output_type": "stream",
     "text": [
      "[1]Accuracy:99.609375%\n",
      "[2]Accuracy:98.828125%\n",
      "[3]Accuracy:98.437500%\n",
      "[4]Accuracy:98.339844%\n",
      "[5]Accuracy:97.812500%\n",
      "[6]Accuracy:97.656250%\n",
      "[7]Accuracy:97.600446%\n",
      "[8]Accuracy:97.558594%\n",
      "[9]Accuracy:97.309028%\n",
      "[10]Accuracy:97.343750%\n",
      "[11]Accuracy:97.336648%\n",
      "[12]Accuracy:97.428385%\n",
      "[13]Accuracy:97.566106%\n",
      "[14]Accuracy:97.572545%\n",
      "[15]Accuracy:97.473958%\n",
      "[16]Accuracy:97.363281%\n",
      "[17]Accuracy:97.357537%\n",
      "[18]Accuracy:97.395833%\n",
      "[19]Accuracy:97.388980%\n",
      "[20]Accuracy:97.460938%\n",
      "[21]Accuracy:97.563244%\n",
      "[22]Accuracy:97.638494%\n",
      "[23]Accuracy:97.656250%\n",
      "[24]Accuracy:97.574870%\n",
      "[25]Accuracy:97.656250%\n",
      "[26]Accuracy:97.596154%\n",
      "[27]Accuracy:97.656250%\n",
      "[28]Accuracy:97.739955%\n",
      "[29]Accuracy:97.804418%\n",
      "[30]Accuracy:97.877604%\n",
      "[31]Accuracy:97.946069%\n",
      "[32]Accuracy:97.961426%\n",
      "[33]Accuracy:98.011364%\n",
      "[34]Accuracy:98.046875%\n",
      "[35]Accuracy:98.102679%\n",
      "[36]Accuracy:98.111979%\n",
      "[37]Accuracy:98.152449%\n",
      "[38]Accuracy:98.139391%\n",
      "[39]Accuracy:98.086939%\n",
      "[40]Accuracy:98.090000%\n"
     ]
    }
   ],
   "source": [
    "# Test the model\n",
    "with torch.no_grad():\n",
    "    correct = 0\n",
    "    total = 0\n",
    "    for i, (images, labels) in enumerate(test_loader):\n",
    "        # get Input &GT (send to Device)\n",
    "        images = images.reshape(-1, 28*28).to(device)\n",
    "        labels = labels.to(device)\n",
    "        # Output: forward pass throuhg model \n",
    "        outputs = model(images)\n",
    "        # extract Prediction\n",
    "        _, predicted = torch.max(outputs.data, 1)\n",
    "        # Precision from Prediction vs GT\n",
    "        total += labels.size(0)\n",
    "        correct += (predicted == labels).sum().item()\n",
    "        print (\"[{}]Accuracy:{:5f}%\".format(i+1, 100*correct/total))\n",
    "\n",
    "torch.save(model.state_dict(),'model.ckpt')"
   ]
  },
  {
   "cell_type": "code",
   "execution_count": null,
   "metadata": {},
   "outputs": [],
   "source": []
  }
 ],
 "metadata": {
  "kernelspec": {
   "display_name": "Python 3",
   "language": "python",
   "name": "python3"
  },
  "language_info": {
   "codemirror_mode": {
    "name": "ipython",
    "version": 3
   },
   "file_extension": ".py",
   "mimetype": "text/x-python",
   "name": "python",
   "nbconvert_exporter": "python",
   "pygments_lexer": "ipython3",
   "version": "3.6.5"
  }
 },
 "nbformat": 4,
 "nbformat_minor": 2
}
