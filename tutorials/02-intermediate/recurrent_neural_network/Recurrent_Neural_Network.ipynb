{
 "cells": [
  {
   "cell_type": "code",
   "execution_count": 1,
   "metadata": {},
   "outputs": [],
   "source": [
    "import torch\n",
    "import torch.nn as nn\n",
    "import torchvision\n",
    "import torchvision.transforms as transforms"
   ]
  },
  {
   "cell_type": "code",
   "execution_count": 2,
   "metadata": {},
   "outputs": [],
   "source": [
    "# device configuration\n",
    "device = torch.device('cuda' if torch.cuda.is_available() else 'cpu')"
   ]
  },
  {
   "cell_type": "code",
   "execution_count": 3,
   "metadata": {},
   "outputs": [],
   "source": [
    "# Hyper-parameters\n",
    "sequence_length = 28\n",
    "input_size = 28\n",
    "hidden_size = 128\n",
    "num_layers = 2\n",
    "num_classes = 10\n",
    "batch_size = 100\n",
    "num_epochs = 2\n",
    "learning_rate = 0.01"
   ]
  },
  {
   "cell_type": "code",
   "execution_count": 4,
   "metadata": {},
   "outputs": [],
   "source": [
    "# MNIST dataset\n",
    "train_dataset = torchvision.datasets.MNIST(root='../../data', train=True, transform=transforms.ToTensor(), download=False)\n",
    "test_dataset = torchvision.datasets.MNIST(root='../../data', train=True, transform=transforms.ToTensor(), download=False)\n",
    "train_loader = torch.utils.data.DataLoader(dataset=train_dataset, batch_size=batch_size, shuffle=True)\n",
    "test_loader = torch.utils.data.DataLoader(dataset=test_dataset, batch_size=batch_size, shuffle=False)"
   ]
  },
  {
   "cell_type": "code",
   "execution_count": 5,
   "metadata": {},
   "outputs": [],
   "source": [
    "# Recurrent Neural Network\n",
    "class RNN(nn.Module):\n",
    "    def __init__(self, input_size, hidden_size, num_layers, num_classes):\n",
    "        super(RNN, self).__init__()\n",
    "        self.hidden_size = hidden_size\n",
    "        self.num_layers = num_layers\n",
    "        self.lstm = nn.LSTM(input_size, hidden_size, num_layers, batch_first=True)\n",
    "        self.fc = nn.Linear(in_features=hidden_size, out_features=num_classes)\n",
    "        \n",
    "    def forward(self, x):\n",
    "        # Set initial hidden and cell states\n",
    "        h0 = torch.zeros(self.num_layers, x.size(0), self.hidden_size).to(device)\n",
    "        c0 = torch.zeros(self.num_layers, x.size(0), self.hidden_size).to(device)\n",
    "        \n",
    "        # Forward propagate LSTM\n",
    "        out, _ = self.lstm(x, (h0, c0)) # out: tensor of shape (batch_size, seq_length, hidden_size)\n",
    "        \n",
    "        # Decode the hidden state fo the last time step\n",
    "        out = self.fc(out[:, -1,:])\n",
    "        return out\n",
    "    \n"
   ]
  },
  {
   "cell_type": "code",
   "execution_count": 6,
   "metadata": {},
   "outputs": [],
   "source": [
    "# Net, Loss and optimizer\n",
    "model = RNN(input_size, hidden_size, num_layers, num_classes).to(device)\n",
    "criterion = nn.CrossEntropyLoss()\n",
    "optimizer = torch.optim.Adam(model.parameters(), lr=learning_rate)"
   ]
  },
  {
   "cell_type": "code",
   "execution_count": 7,
   "metadata": {},
   "outputs": [
    {
     "name": "stdout",
     "output_type": "stream",
     "text": [
      "Epoch [1/2], Step [100/600], Loss: 0.5473\n",
      "Epoch [1/2], Step [200/600], Loss: 0.3761\n",
      "Epoch [1/2], Step [300/600], Loss: 0.1853\n",
      "Epoch [1/2], Step [400/600], Loss: 0.2628\n",
      "Epoch [1/2], Step [500/600], Loss: 0.0914\n",
      "Epoch [1/2], Step [600/600], Loss: 0.0369\n",
      "Epoch [2/2], Step [100/600], Loss: 0.1233\n",
      "Epoch [2/2], Step [200/600], Loss: 0.1414\n",
      "Epoch [2/2], Step [300/600], Loss: 0.2027\n",
      "Epoch [2/2], Step [400/600], Loss: 0.0486\n",
      "Epoch [2/2], Step [500/600], Loss: 0.1076\n",
      "Epoch [2/2], Step [600/600], Loss: 0.0979\n"
     ]
    }
   ],
   "source": [
    "# Train the model\n",
    "total_step = len(train_loader)\n",
    "for epoch in range(num_epochs):\n",
    "    for i, (images, labels) in enumerate(train_loader):\n",
    "        images = images.reshape(-1, sequence_length, input_size).to(device)\n",
    "        labels = labels.to(device)\n",
    "        \n",
    "        # Forward pass\n",
    "        outputs = model(images)\n",
    "        loss = criterion(outputs, labels)\n",
    "        \n",
    "        # Backward and optimize\n",
    "        optimizer.zero_grad()\n",
    "        loss.backward()\n",
    "        optimizer.step()\n",
    "        \n",
    "        if (i+1) % 100 == 0:\n",
    "            print ('Epoch [{}/{}], Step [{}/{}], Loss: {:.4f}' \n",
    "                   .format(epoch+1, num_epochs, i+1, total_step, loss.item()))"
   ]
  },
  {
   "cell_type": "code",
   "execution_count": 8,
   "metadata": {},
   "outputs": [
    {
     "name": "stdout",
     "output_type": "stream",
     "text": [
      "[30/600]Test Accuracy of the model on the 10000 test images: 97.5333 %\n",
      "[60/600]Test Accuracy of the model on the 10000 test images: 97.6167 %\n",
      "[90/600]Test Accuracy of the model on the 10000 test images: 97.5667 %\n",
      "[120/600]Test Accuracy of the model on the 10000 test images: 97.5500 %\n",
      "[150/600]Test Accuracy of the model on the 10000 test images: 97.4533 %\n",
      "[180/600]Test Accuracy of the model on the 10000 test images: 97.4278 %\n",
      "[210/600]Test Accuracy of the model on the 10000 test images: 97.4238 %\n",
      "[240/600]Test Accuracy of the model on the 10000 test images: 97.4875 %\n",
      "[270/600]Test Accuracy of the model on the 10000 test images: 97.5296 %\n",
      "[300/600]Test Accuracy of the model on the 10000 test images: 97.5133 %\n",
      "[330/600]Test Accuracy of the model on the 10000 test images: 97.4818 %\n",
      "[360/600]Test Accuracy of the model on the 10000 test images: 97.5028 %\n",
      "[390/600]Test Accuracy of the model on the 10000 test images: 97.4949 %\n",
      "[420/600]Test Accuracy of the model on the 10000 test images: 97.4881 %\n",
      "[450/600]Test Accuracy of the model on the 10000 test images: 97.5178 %\n",
      "[480/600]Test Accuracy of the model on the 10000 test images: 97.4979 %\n",
      "[510/600]Test Accuracy of the model on the 10000 test images: 97.4627 %\n",
      "[540/600]Test Accuracy of the model on the 10000 test images: 97.4630 %\n",
      "[570/600]Test Accuracy of the model on the 10000 test images: 97.4965 %\n",
      "[600/600]Test Accuracy of the model on the 10000 test images: 97.5417 %\n"
     ]
    }
   ],
   "source": [
    "# Test the model\n",
    "with torch.no_grad():\n",
    "    correct = 0\n",
    "    total = 0\n",
    "    total_step = len(test_loader)\n",
    "    for i,(images, labels) in enumerate(test_loader):\n",
    "        images = images.reshape(-1, sequence_length, input_size).to(device)\n",
    "        labels = labels.to(device)\n",
    "        outputs = model(images)\n",
    "        _, predicted = torch.max(outputs.data, 1)\n",
    "        total += labels.size(0)\n",
    "        correct += (predicted == labels).sum().item()\n",
    "        if (i+1)% 30 == 0:\n",
    "            print('[{}/{}]Test Accuracy of the model on the 10000 test images: {:.4f} %'.format(i+1, total_step, 100 * correct / total)) "
   ]
  },
  {
   "cell_type": "code",
   "execution_count": 9,
   "metadata": {},
   "outputs": [],
   "source": [
    "torch.save(model.state_dict(), \"model.ckpt\")"
   ]
  },
  {
   "cell_type": "code",
   "execution_count": null,
   "metadata": {},
   "outputs": [],
   "source": []
  }
 ],
 "metadata": {
  "kernelspec": {
   "display_name": "Python 3",
   "language": "python",
   "name": "python3"
  },
  "language_info": {
   "codemirror_mode": {
    "name": "ipython",
    "version": 3
   },
   "file_extension": ".py",
   "mimetype": "text/x-python",
   "name": "python",
   "nbconvert_exporter": "python",
   "pygments_lexer": "ipython3",
   "version": "3.6.5"
  }
 },
 "nbformat": 4,
 "nbformat_minor": 2
}
